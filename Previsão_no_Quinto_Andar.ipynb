{
  "cells": [
    {
      "cell_type": "markdown",
      "metadata": {
        "id": "view-in-github",
        "colab_type": "text"
      },
      "source": [
        "<a href=\"https://colab.research.google.com/github/cairoegito/Previsao-de-alugueis-no-Quinto-Andar/blob/main/Previs%C3%A3o_no_Quinto_Andar.ipynb\" target=\"_parent\"><img src=\"https://colab.research.google.com/assets/colab-badge.svg\" alt=\"Open In Colab\"/></a>"
      ]
    },
    {
      "cell_type": "markdown",
      "metadata": {
        "id": "6-9Zs_2k6ISb"
      },
      "source": [
        "**1- Problema de negócio**"
      ]
    },
    {
      "cell_type": "markdown",
      "metadata": {
        "id": "s4LNx-Pm6YVc"
      },
      "source": [
        "Auxiliar a equipe do Quinto Andar no orçamento dado a determinado imóvel de acordo com possibilidades diferentes, como tamanho e localizações distintas na cidade. Analisar possíveis e diferentes cenários para proporcionar um valor mais justo para cada imóvel."
      ]
    },
    {
      "cell_type": "markdown",
      "metadata": {
        "id": "Eiunhzm_66Hs"
      },
      "source": [
        "**2- Importando Bibliotecas**"
      ]
    },
    {
      "cell_type": "code",
      "execution_count": 48,
      "metadata": {
        "id": "es83T_4m7BvL"
      },
      "outputs": [],
      "source": [
        "# Bibliotecas para EDA\n",
        "import pandas as pd\n",
        "import matplotlib.pyplot as plt\n",
        "import seaborn as sns\n",
        "import numpy as np\n",
        "\n",
        "#Bibliotecas de Machine Learning\n",
        "import statsmodels.api as sm\n",
        "from sklearn.model_selection import train_test_split\n",
        "from sklearn.linear_model import LinearRegression\n",
        "from sklearn.metrics import mean_squared_error\n",
        "import statsmodels.formula.api as smf\n",
        "import statsmodels.stats.api as sms \n",
        "from sklearn.metrics import r2_score\n",
        "from sklearn.ensemble import IsolationForest"
      ]
    },
    {
      "cell_type": "markdown",
      "metadata": {
        "id": "itFxNui88l3i"
      },
      "source": [
        "**3-Análise Exploratória de Dados**"
      ]
    },
    {
      "cell_type": "code",
      "execution_count": 5,
      "metadata": {
        "id": "uMpf7dWr8uvT"
      },
      "outputs": [],
      "source": [
        "df= pd.read_csv(\"/content/drive/MyDrive/Quinto Andar/base.csv\", sep=',');"
      ]
    },
    {
      "cell_type": "code",
      "source": [
        "from google.colab import drive\n",
        "drive.mount('/content/drive')"
      ],
      "metadata": {
        "colab": {
          "base_uri": "https://localhost:8080/"
        },
        "id": "Tf1MlHyN7VAF",
        "outputId": "498ee162-e123-4e6d-96f8-8431f73d796c"
      },
      "execution_count": 6,
      "outputs": [
        {
          "output_type": "stream",
          "name": "stdout",
          "text": [
            "Drive already mounted at /content/drive; to attempt to forcibly remount, call drive.mount(\"/content/drive\", force_remount=True).\n"
          ]
        }
      ]
    },
    {
      "cell_type": "code",
      "execution_count": 7,
      "metadata": {
        "colab": {
          "base_uri": "https://localhost:8080/",
          "height": 300
        },
        "id": "jDc7WNnxRCVt",
        "outputId": "7dc5f081-e011-4b7a-a8f5-2d960473bd48"
      },
      "outputs": [
        {
          "output_type": "execute_result",
          "data": {
            "text/plain": [
              "   Id  ClasseImovel ClasseZona  Fachada  TamanhoLote   Rua Beco FormaProp  \\\n",
              "0   1            60         RL     65.0         8450  Pave  NaN       Reg   \n",
              "1   2            20         RL     80.0         9600  Pave  NaN       Reg   \n",
              "2   3            60         RL     68.0        11250  Pave  NaN       IR1   \n",
              "3   4            70         RL     60.0         9550  Pave  NaN       IR1   \n",
              "4   5            60         RL     84.0        14260  Pave  NaN       IR1   \n",
              "\n",
              "  PlanoProp Servicos  ... AreaPiscina QualidadePiscina QualidadeCerca Outros  \\\n",
              "0       Lvl   AllPub  ...           0              NaN            NaN    NaN   \n",
              "1       Lvl   AllPub  ...           0              NaN            NaN    NaN   \n",
              "2       Lvl   AllPub  ...           0              NaN            NaN    NaN   \n",
              "3       Lvl   AllPub  ...           0              NaN            NaN    NaN   \n",
              "4       Lvl   AllPub  ...           0              NaN            NaN    NaN   \n",
              "\n",
              "  ValorOutros MesVenda AnoVenda  TipoVenda  CondicaoVenda  PrecoVenda  \n",
              "0           0        2     2008         WD         Normal      208500  \n",
              "1           0        5     2007         WD         Normal      181500  \n",
              "2           0        9     2008         WD         Normal      223500  \n",
              "3           0        2     2006         WD        Abnorml      140000  \n",
              "4           0       12     2008         WD         Normal      250000  \n",
              "\n",
              "[5 rows x 81 columns]"
            ],
            "text/html": [
              "\n",
              "  <div id=\"df-a729f10f-99ad-48fa-b6d7-05d3e6d3e91a\">\n",
              "    <div class=\"colab-df-container\">\n",
              "      <div>\n",
              "<style scoped>\n",
              "    .dataframe tbody tr th:only-of-type {\n",
              "        vertical-align: middle;\n",
              "    }\n",
              "\n",
              "    .dataframe tbody tr th {\n",
              "        vertical-align: top;\n",
              "    }\n",
              "\n",
              "    .dataframe thead th {\n",
              "        text-align: right;\n",
              "    }\n",
              "</style>\n",
              "<table border=\"1\" class=\"dataframe\">\n",
              "  <thead>\n",
              "    <tr style=\"text-align: right;\">\n",
              "      <th></th>\n",
              "      <th>Id</th>\n",
              "      <th>ClasseImovel</th>\n",
              "      <th>ClasseZona</th>\n",
              "      <th>Fachada</th>\n",
              "      <th>TamanhoLote</th>\n",
              "      <th>Rua</th>\n",
              "      <th>Beco</th>\n",
              "      <th>FormaProp</th>\n",
              "      <th>PlanoProp</th>\n",
              "      <th>Servicos</th>\n",
              "      <th>...</th>\n",
              "      <th>AreaPiscina</th>\n",
              "      <th>QualidadePiscina</th>\n",
              "      <th>QualidadeCerca</th>\n",
              "      <th>Outros</th>\n",
              "      <th>ValorOutros</th>\n",
              "      <th>MesVenda</th>\n",
              "      <th>AnoVenda</th>\n",
              "      <th>TipoVenda</th>\n",
              "      <th>CondicaoVenda</th>\n",
              "      <th>PrecoVenda</th>\n",
              "    </tr>\n",
              "  </thead>\n",
              "  <tbody>\n",
              "    <tr>\n",
              "      <th>0</th>\n",
              "      <td>1</td>\n",
              "      <td>60</td>\n",
              "      <td>RL</td>\n",
              "      <td>65.0</td>\n",
              "      <td>8450</td>\n",
              "      <td>Pave</td>\n",
              "      <td>NaN</td>\n",
              "      <td>Reg</td>\n",
              "      <td>Lvl</td>\n",
              "      <td>AllPub</td>\n",
              "      <td>...</td>\n",
              "      <td>0</td>\n",
              "      <td>NaN</td>\n",
              "      <td>NaN</td>\n",
              "      <td>NaN</td>\n",
              "      <td>0</td>\n",
              "      <td>2</td>\n",
              "      <td>2008</td>\n",
              "      <td>WD</td>\n",
              "      <td>Normal</td>\n",
              "      <td>208500</td>\n",
              "    </tr>\n",
              "    <tr>\n",
              "      <th>1</th>\n",
              "      <td>2</td>\n",
              "      <td>20</td>\n",
              "      <td>RL</td>\n",
              "      <td>80.0</td>\n",
              "      <td>9600</td>\n",
              "      <td>Pave</td>\n",
              "      <td>NaN</td>\n",
              "      <td>Reg</td>\n",
              "      <td>Lvl</td>\n",
              "      <td>AllPub</td>\n",
              "      <td>...</td>\n",
              "      <td>0</td>\n",
              "      <td>NaN</td>\n",
              "      <td>NaN</td>\n",
              "      <td>NaN</td>\n",
              "      <td>0</td>\n",
              "      <td>5</td>\n",
              "      <td>2007</td>\n",
              "      <td>WD</td>\n",
              "      <td>Normal</td>\n",
              "      <td>181500</td>\n",
              "    </tr>\n",
              "    <tr>\n",
              "      <th>2</th>\n",
              "      <td>3</td>\n",
              "      <td>60</td>\n",
              "      <td>RL</td>\n",
              "      <td>68.0</td>\n",
              "      <td>11250</td>\n",
              "      <td>Pave</td>\n",
              "      <td>NaN</td>\n",
              "      <td>IR1</td>\n",
              "      <td>Lvl</td>\n",
              "      <td>AllPub</td>\n",
              "      <td>...</td>\n",
              "      <td>0</td>\n",
              "      <td>NaN</td>\n",
              "      <td>NaN</td>\n",
              "      <td>NaN</td>\n",
              "      <td>0</td>\n",
              "      <td>9</td>\n",
              "      <td>2008</td>\n",
              "      <td>WD</td>\n",
              "      <td>Normal</td>\n",
              "      <td>223500</td>\n",
              "    </tr>\n",
              "    <tr>\n",
              "      <th>3</th>\n",
              "      <td>4</td>\n",
              "      <td>70</td>\n",
              "      <td>RL</td>\n",
              "      <td>60.0</td>\n",
              "      <td>9550</td>\n",
              "      <td>Pave</td>\n",
              "      <td>NaN</td>\n",
              "      <td>IR1</td>\n",
              "      <td>Lvl</td>\n",
              "      <td>AllPub</td>\n",
              "      <td>...</td>\n",
              "      <td>0</td>\n",
              "      <td>NaN</td>\n",
              "      <td>NaN</td>\n",
              "      <td>NaN</td>\n",
              "      <td>0</td>\n",
              "      <td>2</td>\n",
              "      <td>2006</td>\n",
              "      <td>WD</td>\n",
              "      <td>Abnorml</td>\n",
              "      <td>140000</td>\n",
              "    </tr>\n",
              "    <tr>\n",
              "      <th>4</th>\n",
              "      <td>5</td>\n",
              "      <td>60</td>\n",
              "      <td>RL</td>\n",
              "      <td>84.0</td>\n",
              "      <td>14260</td>\n",
              "      <td>Pave</td>\n",
              "      <td>NaN</td>\n",
              "      <td>IR1</td>\n",
              "      <td>Lvl</td>\n",
              "      <td>AllPub</td>\n",
              "      <td>...</td>\n",
              "      <td>0</td>\n",
              "      <td>NaN</td>\n",
              "      <td>NaN</td>\n",
              "      <td>NaN</td>\n",
              "      <td>0</td>\n",
              "      <td>12</td>\n",
              "      <td>2008</td>\n",
              "      <td>WD</td>\n",
              "      <td>Normal</td>\n",
              "      <td>250000</td>\n",
              "    </tr>\n",
              "  </tbody>\n",
              "</table>\n",
              "<p>5 rows × 81 columns</p>\n",
              "</div>\n",
              "      <button class=\"colab-df-convert\" onclick=\"convertToInteractive('df-a729f10f-99ad-48fa-b6d7-05d3e6d3e91a')\"\n",
              "              title=\"Convert this dataframe to an interactive table.\"\n",
              "              style=\"display:none;\">\n",
              "        \n",
              "  <svg xmlns=\"http://www.w3.org/2000/svg\" height=\"24px\"viewBox=\"0 0 24 24\"\n",
              "       width=\"24px\">\n",
              "    <path d=\"M0 0h24v24H0V0z\" fill=\"none\"/>\n",
              "    <path d=\"M18.56 5.44l.94 2.06.94-2.06 2.06-.94-2.06-.94-.94-2.06-.94 2.06-2.06.94zm-11 1L8.5 8.5l.94-2.06 2.06-.94-2.06-.94L8.5 2.5l-.94 2.06-2.06.94zm10 10l.94 2.06.94-2.06 2.06-.94-2.06-.94-.94-2.06-.94 2.06-2.06.94z\"/><path d=\"M17.41 7.96l-1.37-1.37c-.4-.4-.92-.59-1.43-.59-.52 0-1.04.2-1.43.59L10.3 9.45l-7.72 7.72c-.78.78-.78 2.05 0 2.83L4 21.41c.39.39.9.59 1.41.59.51 0 1.02-.2 1.41-.59l7.78-7.78 2.81-2.81c.8-.78.8-2.07 0-2.86zM5.41 20L4 18.59l7.72-7.72 1.47 1.35L5.41 20z\"/>\n",
              "  </svg>\n",
              "      </button>\n",
              "      \n",
              "  <style>\n",
              "    .colab-df-container {\n",
              "      display:flex;\n",
              "      flex-wrap:wrap;\n",
              "      gap: 12px;\n",
              "    }\n",
              "\n",
              "    .colab-df-convert {\n",
              "      background-color: #E8F0FE;\n",
              "      border: none;\n",
              "      border-radius: 50%;\n",
              "      cursor: pointer;\n",
              "      display: none;\n",
              "      fill: #1967D2;\n",
              "      height: 32px;\n",
              "      padding: 0 0 0 0;\n",
              "      width: 32px;\n",
              "    }\n",
              "\n",
              "    .colab-df-convert:hover {\n",
              "      background-color: #E2EBFA;\n",
              "      box-shadow: 0px 1px 2px rgba(60, 64, 67, 0.3), 0px 1px 3px 1px rgba(60, 64, 67, 0.15);\n",
              "      fill: #174EA6;\n",
              "    }\n",
              "\n",
              "    [theme=dark] .colab-df-convert {\n",
              "      background-color: #3B4455;\n",
              "      fill: #D2E3FC;\n",
              "    }\n",
              "\n",
              "    [theme=dark] .colab-df-convert:hover {\n",
              "      background-color: #434B5C;\n",
              "      box-shadow: 0px 1px 3px 1px rgba(0, 0, 0, 0.15);\n",
              "      filter: drop-shadow(0px 1px 2px rgba(0, 0, 0, 0.3));\n",
              "      fill: #FFFFFF;\n",
              "    }\n",
              "  </style>\n",
              "\n",
              "      <script>\n",
              "        const buttonEl =\n",
              "          document.querySelector('#df-a729f10f-99ad-48fa-b6d7-05d3e6d3e91a button.colab-df-convert');\n",
              "        buttonEl.style.display =\n",
              "          google.colab.kernel.accessAllowed ? 'block' : 'none';\n",
              "\n",
              "        async function convertToInteractive(key) {\n",
              "          const element = document.querySelector('#df-a729f10f-99ad-48fa-b6d7-05d3e6d3e91a');\n",
              "          const dataTable =\n",
              "            await google.colab.kernel.invokeFunction('convertToInteractive',\n",
              "                                                     [key], {});\n",
              "          if (!dataTable) return;\n",
              "\n",
              "          const docLinkHtml = 'Like what you see? Visit the ' +\n",
              "            '<a target=\"_blank\" href=https://colab.research.google.com/notebooks/data_table.ipynb>data table notebook</a>'\n",
              "            + ' to learn more about interactive tables.';\n",
              "          element.innerHTML = '';\n",
              "          dataTable['output_type'] = 'display_data';\n",
              "          await google.colab.output.renderOutput(dataTable, element);\n",
              "          const docLink = document.createElement('div');\n",
              "          docLink.innerHTML = docLinkHtml;\n",
              "          element.appendChild(docLink);\n",
              "        }\n",
              "      </script>\n",
              "    </div>\n",
              "  </div>\n",
              "  "
            ]
          },
          "metadata": {},
          "execution_count": 7
        }
      ],
      "source": [
        "df.head()"
      ]
    },
    {
      "cell_type": "code",
      "execution_count": 8,
      "metadata": {
        "colab": {
          "base_uri": "https://localhost:8080/"
        },
        "id": "Mchwq2N9-e_d",
        "outputId": "150fc99e-b91e-40f2-a711-f0aa8c569f9e"
      },
      "outputs": [
        {
          "output_type": "execute_result",
          "data": {
            "text/plain": [
              "(1460, 81)"
            ]
          },
          "metadata": {},
          "execution_count": 8
        }
      ],
      "source": [
        "#Analisando o tamanho de meu dataframe\n",
        "df.shape"
      ]
    },
    {
      "cell_type": "code",
      "execution_count": 9,
      "metadata": {
        "colab": {
          "base_uri": "https://localhost:8080/",
          "height": 394
        },
        "id": "Uw2jsu2i-kny",
        "outputId": "bb1c3159-6104-4b85-d082-b411ac0c5323"
      },
      "outputs": [
        {
          "output_type": "execute_result",
          "data": {
            "text/plain": [
              "                Id  ClasseImovel      Fachada    TamanhoLote    Qualidade  \\\n",
              "count  1460.000000   1460.000000  1201.000000    1460.000000  1460.000000   \n",
              "mean    730.500000     56.897260    70.049958   10516.828082     6.099315   \n",
              "std     421.610009     42.300571    24.284752    9981.264932     1.382997   \n",
              "min       1.000000     20.000000    21.000000    1300.000000     1.000000   \n",
              "25%     365.750000     20.000000    59.000000    7553.500000     5.000000   \n",
              "50%     730.500000     50.000000    69.000000    9478.500000     6.000000   \n",
              "75%    1095.250000     70.000000    80.000000   11601.500000     7.000000   \n",
              "max    1460.000000    190.000000   313.000000  215245.000000    10.000000   \n",
              "\n",
              "          Condicao  AnoConstrucao   AnoReforma  AreaAlvenaria  AreaAcabPorao1  \\\n",
              "count  1460.000000    1460.000000  1460.000000    1452.000000     1460.000000   \n",
              "mean      5.575342    1971.267808  1984.865753     103.685262      443.639726   \n",
              "std       1.112799      30.202904    20.645407     181.066207      456.098091   \n",
              "min       1.000000    1872.000000  1950.000000       0.000000        0.000000   \n",
              "25%       5.000000    1954.000000  1967.000000       0.000000        0.000000   \n",
              "50%       5.000000    1973.000000  1994.000000       0.000000      383.500000   \n",
              "75%       6.000000    2000.000000  2004.000000     166.000000      712.250000   \n",
              "max       9.000000    2010.000000  2010.000000    1600.000000     5644.000000   \n",
              "\n",
              "       ...     AreaDeck  AreaVarandaAberta  AreaVarandaFechada  \\\n",
              "count  ...  1460.000000        1460.000000         1460.000000   \n",
              "mean   ...    94.244521          46.660274           21.954110   \n",
              "std    ...   125.338794          66.256028           61.119149   \n",
              "min    ...     0.000000           0.000000            0.000000   \n",
              "25%    ...     0.000000           0.000000            0.000000   \n",
              "50%    ...     0.000000          25.000000            0.000000   \n",
              "75%    ...   168.000000          68.000000            0.000000   \n",
              "max    ...   857.000000         547.000000          552.000000   \n",
              "\n",
              "       AreaVaranda3Estacoes  AreaAlpendre  AreaPiscina   ValorOutros  \\\n",
              "count           1460.000000   1460.000000  1460.000000   1460.000000   \n",
              "mean               3.409589     15.060959     2.758904     43.489041   \n",
              "std               29.317331     55.757415    40.177307    496.123024   \n",
              "min                0.000000      0.000000     0.000000      0.000000   \n",
              "25%                0.000000      0.000000     0.000000      0.000000   \n",
              "50%                0.000000      0.000000     0.000000      0.000000   \n",
              "75%                0.000000      0.000000     0.000000      0.000000   \n",
              "max              508.000000    480.000000   738.000000  15500.000000   \n",
              "\n",
              "          MesVenda     AnoVenda     PrecoVenda  \n",
              "count  1460.000000  1460.000000    1460.000000  \n",
              "mean      6.321918  2007.815753  180921.195890  \n",
              "std       2.703626     1.328095   79442.502883  \n",
              "min       1.000000  2006.000000   34900.000000  \n",
              "25%       5.000000  2007.000000  129975.000000  \n",
              "50%       6.000000  2008.000000  163000.000000  \n",
              "75%       8.000000  2009.000000  214000.000000  \n",
              "max      12.000000  2010.000000  755000.000000  \n",
              "\n",
              "[8 rows x 38 columns]"
            ],
            "text/html": [
              "\n",
              "  <div id=\"df-98319895-4aca-4a29-a030-43ce242f2534\">\n",
              "    <div class=\"colab-df-container\">\n",
              "      <div>\n",
              "<style scoped>\n",
              "    .dataframe tbody tr th:only-of-type {\n",
              "        vertical-align: middle;\n",
              "    }\n",
              "\n",
              "    .dataframe tbody tr th {\n",
              "        vertical-align: top;\n",
              "    }\n",
              "\n",
              "    .dataframe thead th {\n",
              "        text-align: right;\n",
              "    }\n",
              "</style>\n",
              "<table border=\"1\" class=\"dataframe\">\n",
              "  <thead>\n",
              "    <tr style=\"text-align: right;\">\n",
              "      <th></th>\n",
              "      <th>Id</th>\n",
              "      <th>ClasseImovel</th>\n",
              "      <th>Fachada</th>\n",
              "      <th>TamanhoLote</th>\n",
              "      <th>Qualidade</th>\n",
              "      <th>Condicao</th>\n",
              "      <th>AnoConstrucao</th>\n",
              "      <th>AnoReforma</th>\n",
              "      <th>AreaAlvenaria</th>\n",
              "      <th>AreaAcabPorao1</th>\n",
              "      <th>...</th>\n",
              "      <th>AreaDeck</th>\n",
              "      <th>AreaVarandaAberta</th>\n",
              "      <th>AreaVarandaFechada</th>\n",
              "      <th>AreaVaranda3Estacoes</th>\n",
              "      <th>AreaAlpendre</th>\n",
              "      <th>AreaPiscina</th>\n",
              "      <th>ValorOutros</th>\n",
              "      <th>MesVenda</th>\n",
              "      <th>AnoVenda</th>\n",
              "      <th>PrecoVenda</th>\n",
              "    </tr>\n",
              "  </thead>\n",
              "  <tbody>\n",
              "    <tr>\n",
              "      <th>count</th>\n",
              "      <td>1460.000000</td>\n",
              "      <td>1460.000000</td>\n",
              "      <td>1201.000000</td>\n",
              "      <td>1460.000000</td>\n",
              "      <td>1460.000000</td>\n",
              "      <td>1460.000000</td>\n",
              "      <td>1460.000000</td>\n",
              "      <td>1460.000000</td>\n",
              "      <td>1452.000000</td>\n",
              "      <td>1460.000000</td>\n",
              "      <td>...</td>\n",
              "      <td>1460.000000</td>\n",
              "      <td>1460.000000</td>\n",
              "      <td>1460.000000</td>\n",
              "      <td>1460.000000</td>\n",
              "      <td>1460.000000</td>\n",
              "      <td>1460.000000</td>\n",
              "      <td>1460.000000</td>\n",
              "      <td>1460.000000</td>\n",
              "      <td>1460.000000</td>\n",
              "      <td>1460.000000</td>\n",
              "    </tr>\n",
              "    <tr>\n",
              "      <th>mean</th>\n",
              "      <td>730.500000</td>\n",
              "      <td>56.897260</td>\n",
              "      <td>70.049958</td>\n",
              "      <td>10516.828082</td>\n",
              "      <td>6.099315</td>\n",
              "      <td>5.575342</td>\n",
              "      <td>1971.267808</td>\n",
              "      <td>1984.865753</td>\n",
              "      <td>103.685262</td>\n",
              "      <td>443.639726</td>\n",
              "      <td>...</td>\n",
              "      <td>94.244521</td>\n",
              "      <td>46.660274</td>\n",
              "      <td>21.954110</td>\n",
              "      <td>3.409589</td>\n",
              "      <td>15.060959</td>\n",
              "      <td>2.758904</td>\n",
              "      <td>43.489041</td>\n",
              "      <td>6.321918</td>\n",
              "      <td>2007.815753</td>\n",
              "      <td>180921.195890</td>\n",
              "    </tr>\n",
              "    <tr>\n",
              "      <th>std</th>\n",
              "      <td>421.610009</td>\n",
              "      <td>42.300571</td>\n",
              "      <td>24.284752</td>\n",
              "      <td>9981.264932</td>\n",
              "      <td>1.382997</td>\n",
              "      <td>1.112799</td>\n",
              "      <td>30.202904</td>\n",
              "      <td>20.645407</td>\n",
              "      <td>181.066207</td>\n",
              "      <td>456.098091</td>\n",
              "      <td>...</td>\n",
              "      <td>125.338794</td>\n",
              "      <td>66.256028</td>\n",
              "      <td>61.119149</td>\n",
              "      <td>29.317331</td>\n",
              "      <td>55.757415</td>\n",
              "      <td>40.177307</td>\n",
              "      <td>496.123024</td>\n",
              "      <td>2.703626</td>\n",
              "      <td>1.328095</td>\n",
              "      <td>79442.502883</td>\n",
              "    </tr>\n",
              "    <tr>\n",
              "      <th>min</th>\n",
              "      <td>1.000000</td>\n",
              "      <td>20.000000</td>\n",
              "      <td>21.000000</td>\n",
              "      <td>1300.000000</td>\n",
              "      <td>1.000000</td>\n",
              "      <td>1.000000</td>\n",
              "      <td>1872.000000</td>\n",
              "      <td>1950.000000</td>\n",
              "      <td>0.000000</td>\n",
              "      <td>0.000000</td>\n",
              "      <td>...</td>\n",
              "      <td>0.000000</td>\n",
              "      <td>0.000000</td>\n",
              "      <td>0.000000</td>\n",
              "      <td>0.000000</td>\n",
              "      <td>0.000000</td>\n",
              "      <td>0.000000</td>\n",
              "      <td>0.000000</td>\n",
              "      <td>1.000000</td>\n",
              "      <td>2006.000000</td>\n",
              "      <td>34900.000000</td>\n",
              "    </tr>\n",
              "    <tr>\n",
              "      <th>25%</th>\n",
              "      <td>365.750000</td>\n",
              "      <td>20.000000</td>\n",
              "      <td>59.000000</td>\n",
              "      <td>7553.500000</td>\n",
              "      <td>5.000000</td>\n",
              "      <td>5.000000</td>\n",
              "      <td>1954.000000</td>\n",
              "      <td>1967.000000</td>\n",
              "      <td>0.000000</td>\n",
              "      <td>0.000000</td>\n",
              "      <td>...</td>\n",
              "      <td>0.000000</td>\n",
              "      <td>0.000000</td>\n",
              "      <td>0.000000</td>\n",
              "      <td>0.000000</td>\n",
              "      <td>0.000000</td>\n",
              "      <td>0.000000</td>\n",
              "      <td>0.000000</td>\n",
              "      <td>5.000000</td>\n",
              "      <td>2007.000000</td>\n",
              "      <td>129975.000000</td>\n",
              "    </tr>\n",
              "    <tr>\n",
              "      <th>50%</th>\n",
              "      <td>730.500000</td>\n",
              "      <td>50.000000</td>\n",
              "      <td>69.000000</td>\n",
              "      <td>9478.500000</td>\n",
              "      <td>6.000000</td>\n",
              "      <td>5.000000</td>\n",
              "      <td>1973.000000</td>\n",
              "      <td>1994.000000</td>\n",
              "      <td>0.000000</td>\n",
              "      <td>383.500000</td>\n",
              "      <td>...</td>\n",
              "      <td>0.000000</td>\n",
              "      <td>25.000000</td>\n",
              "      <td>0.000000</td>\n",
              "      <td>0.000000</td>\n",
              "      <td>0.000000</td>\n",
              "      <td>0.000000</td>\n",
              "      <td>0.000000</td>\n",
              "      <td>6.000000</td>\n",
              "      <td>2008.000000</td>\n",
              "      <td>163000.000000</td>\n",
              "    </tr>\n",
              "    <tr>\n",
              "      <th>75%</th>\n",
              "      <td>1095.250000</td>\n",
              "      <td>70.000000</td>\n",
              "      <td>80.000000</td>\n",
              "      <td>11601.500000</td>\n",
              "      <td>7.000000</td>\n",
              "      <td>6.000000</td>\n",
              "      <td>2000.000000</td>\n",
              "      <td>2004.000000</td>\n",
              "      <td>166.000000</td>\n",
              "      <td>712.250000</td>\n",
              "      <td>...</td>\n",
              "      <td>168.000000</td>\n",
              "      <td>68.000000</td>\n",
              "      <td>0.000000</td>\n",
              "      <td>0.000000</td>\n",
              "      <td>0.000000</td>\n",
              "      <td>0.000000</td>\n",
              "      <td>0.000000</td>\n",
              "      <td>8.000000</td>\n",
              "      <td>2009.000000</td>\n",
              "      <td>214000.000000</td>\n",
              "    </tr>\n",
              "    <tr>\n",
              "      <th>max</th>\n",
              "      <td>1460.000000</td>\n",
              "      <td>190.000000</td>\n",
              "      <td>313.000000</td>\n",
              "      <td>215245.000000</td>\n",
              "      <td>10.000000</td>\n",
              "      <td>9.000000</td>\n",
              "      <td>2010.000000</td>\n",
              "      <td>2010.000000</td>\n",
              "      <td>1600.000000</td>\n",
              "      <td>5644.000000</td>\n",
              "      <td>...</td>\n",
              "      <td>857.000000</td>\n",
              "      <td>547.000000</td>\n",
              "      <td>552.000000</td>\n",
              "      <td>508.000000</td>\n",
              "      <td>480.000000</td>\n",
              "      <td>738.000000</td>\n",
              "      <td>15500.000000</td>\n",
              "      <td>12.000000</td>\n",
              "      <td>2010.000000</td>\n",
              "      <td>755000.000000</td>\n",
              "    </tr>\n",
              "  </tbody>\n",
              "</table>\n",
              "<p>8 rows × 38 columns</p>\n",
              "</div>\n",
              "      <button class=\"colab-df-convert\" onclick=\"convertToInteractive('df-98319895-4aca-4a29-a030-43ce242f2534')\"\n",
              "              title=\"Convert this dataframe to an interactive table.\"\n",
              "              style=\"display:none;\">\n",
              "        \n",
              "  <svg xmlns=\"http://www.w3.org/2000/svg\" height=\"24px\"viewBox=\"0 0 24 24\"\n",
              "       width=\"24px\">\n",
              "    <path d=\"M0 0h24v24H0V0z\" fill=\"none\"/>\n",
              "    <path d=\"M18.56 5.44l.94 2.06.94-2.06 2.06-.94-2.06-.94-.94-2.06-.94 2.06-2.06.94zm-11 1L8.5 8.5l.94-2.06 2.06-.94-2.06-.94L8.5 2.5l-.94 2.06-2.06.94zm10 10l.94 2.06.94-2.06 2.06-.94-2.06-.94-.94-2.06-.94 2.06-2.06.94z\"/><path d=\"M17.41 7.96l-1.37-1.37c-.4-.4-.92-.59-1.43-.59-.52 0-1.04.2-1.43.59L10.3 9.45l-7.72 7.72c-.78.78-.78 2.05 0 2.83L4 21.41c.39.39.9.59 1.41.59.51 0 1.02-.2 1.41-.59l7.78-7.78 2.81-2.81c.8-.78.8-2.07 0-2.86zM5.41 20L4 18.59l7.72-7.72 1.47 1.35L5.41 20z\"/>\n",
              "  </svg>\n",
              "      </button>\n",
              "      \n",
              "  <style>\n",
              "    .colab-df-container {\n",
              "      display:flex;\n",
              "      flex-wrap:wrap;\n",
              "      gap: 12px;\n",
              "    }\n",
              "\n",
              "    .colab-df-convert {\n",
              "      background-color: #E8F0FE;\n",
              "      border: none;\n",
              "      border-radius: 50%;\n",
              "      cursor: pointer;\n",
              "      display: none;\n",
              "      fill: #1967D2;\n",
              "      height: 32px;\n",
              "      padding: 0 0 0 0;\n",
              "      width: 32px;\n",
              "    }\n",
              "\n",
              "    .colab-df-convert:hover {\n",
              "      background-color: #E2EBFA;\n",
              "      box-shadow: 0px 1px 2px rgba(60, 64, 67, 0.3), 0px 1px 3px 1px rgba(60, 64, 67, 0.15);\n",
              "      fill: #174EA6;\n",
              "    }\n",
              "\n",
              "    [theme=dark] .colab-df-convert {\n",
              "      background-color: #3B4455;\n",
              "      fill: #D2E3FC;\n",
              "    }\n",
              "\n",
              "    [theme=dark] .colab-df-convert:hover {\n",
              "      background-color: #434B5C;\n",
              "      box-shadow: 0px 1px 3px 1px rgba(0, 0, 0, 0.15);\n",
              "      filter: drop-shadow(0px 1px 2px rgba(0, 0, 0, 0.3));\n",
              "      fill: #FFFFFF;\n",
              "    }\n",
              "  </style>\n",
              "\n",
              "      <script>\n",
              "        const buttonEl =\n",
              "          document.querySelector('#df-98319895-4aca-4a29-a030-43ce242f2534 button.colab-df-convert');\n",
              "        buttonEl.style.display =\n",
              "          google.colab.kernel.accessAllowed ? 'block' : 'none';\n",
              "\n",
              "        async function convertToInteractive(key) {\n",
              "          const element = document.querySelector('#df-98319895-4aca-4a29-a030-43ce242f2534');\n",
              "          const dataTable =\n",
              "            await google.colab.kernel.invokeFunction('convertToInteractive',\n",
              "                                                     [key], {});\n",
              "          if (!dataTable) return;\n",
              "\n",
              "          const docLinkHtml = 'Like what you see? Visit the ' +\n",
              "            '<a target=\"_blank\" href=https://colab.research.google.com/notebooks/data_table.ipynb>data table notebook</a>'\n",
              "            + ' to learn more about interactive tables.';\n",
              "          element.innerHTML = '';\n",
              "          dataTable['output_type'] = 'display_data';\n",
              "          await google.colab.output.renderOutput(dataTable, element);\n",
              "          const docLink = document.createElement('div');\n",
              "          docLink.innerHTML = docLinkHtml;\n",
              "          element.appendChild(docLink);\n",
              "        }\n",
              "      </script>\n",
              "    </div>\n",
              "  </div>\n",
              "  "
            ]
          },
          "metadata": {},
          "execution_count": 9
        }
      ],
      "source": [
        "#Observando estatisticamente melhor meu dataframe\n",
        "df.describe()"
      ]
    },
    {
      "cell_type": "code",
      "execution_count": 10,
      "metadata": {
        "colab": {
          "base_uri": "https://localhost:8080/"
        },
        "id": "xaGbowTr-5V5",
        "outputId": "59dec421-7b2b-49b3-cefb-b8f4c70f38c4"
      },
      "outputs": [
        {
          "output_type": "stream",
          "name": "stdout",
          "text": [
            "<class 'pandas.core.frame.DataFrame'>\n",
            "RangeIndex: 1460 entries, 0 to 1459\n",
            "Data columns (total 81 columns):\n",
            " #   Column                Non-Null Count  Dtype  \n",
            "---  ------                --------------  -----  \n",
            " 0   Id                    1460 non-null   int64  \n",
            " 1   ClasseImovel          1460 non-null   int64  \n",
            " 2   ClasseZona            1460 non-null   object \n",
            " 3   Fachada               1201 non-null   float64\n",
            " 4   TamanhoLote           1460 non-null   int64  \n",
            " 5   Rua                   1460 non-null   object \n",
            " 6   Beco                  91 non-null     object \n",
            " 7   FormaProp             1460 non-null   object \n",
            " 8   PlanoProp             1460 non-null   object \n",
            " 9   Servicos              1460 non-null   object \n",
            " 10  ConfigLote            1460 non-null   object \n",
            " 11  InclinacaoLote        1460 non-null   object \n",
            " 12  Bairro                1460 non-null   object \n",
            " 13  Estrada1              1460 non-null   object \n",
            " 14  Estrada2              1460 non-null   object \n",
            " 15  TipoHabitacao         1460 non-null   object \n",
            " 16  EstiloHabitacao       1460 non-null   object \n",
            " 17  Qualidade             1460 non-null   int64  \n",
            " 18  Condicao              1460 non-null   int64  \n",
            " 19  AnoConstrucao         1460 non-null   int64  \n",
            " 20  AnoReforma            1460 non-null   int64  \n",
            " 21  TipoTelhado           1460 non-null   object \n",
            " 22  MaterialTelhado       1460 non-null   object \n",
            " 23  Exterior1             1460 non-null   object \n",
            " 24  Exterior2             1460 non-null   object \n",
            " 25  TipoAlvenaria         1452 non-null   object \n",
            " 26  AreaAlvenaria         1452 non-null   float64\n",
            " 27  QualidadeCobertura    1460 non-null   object \n",
            " 28  CondicaoExterna       1460 non-null   object \n",
            " 29  TipoFundacao          1460 non-null   object \n",
            " 30  AlturaPorao           1423 non-null   object \n",
            " 31  CondicaoPorao         1423 non-null   object \n",
            " 32  ParedePorao           1422 non-null   object \n",
            " 33  TipoAcabPorao1        1423 non-null   object \n",
            " 34  AreaAcabPorao1        1460 non-null   int64  \n",
            " 35  TipoAcabPorao2        1422 non-null   object \n",
            " 36  AreaAcabPorao2        1460 non-null   int64  \n",
            " 37  AreaInacabPorao       1460 non-null   int64  \n",
            " 38  AreaPorao             1460 non-null   int64  \n",
            " 39  Aquecimento           1460 non-null   object \n",
            " 40  QualidadeAquecimento  1460 non-null   object \n",
            " 41  ArCentral             1460 non-null   object \n",
            " 42  InstalacaoEletrica    1459 non-null   object \n",
            " 43  AreaTerreo            1460 non-null   int64  \n",
            " 44  Area2Andar            1460 non-null   int64  \n",
            " 45  BaixaQualiAreaAcab    1460 non-null   int64  \n",
            " 46  AreaConstruida        1460 non-null   int64  \n",
            " 47  BanheiroPorao         1460 non-null   int64  \n",
            " 48  LavaboPorao           1460 non-null   int64  \n",
            " 49  Banheiro              1460 non-null   int64  \n",
            " 50  Lavabo                1460 non-null   int64  \n",
            " 51  BedroomAbvGr          1460 non-null   int64  \n",
            " 52  KitchenAbvGr          1460 non-null   int64  \n",
            " 53  QualidadeCozinha      1460 non-null   object \n",
            " 54  TotalQuartos          1460 non-null   int64  \n",
            " 55  Funcionalidade        1460 non-null   object \n",
            " 56  Lareira               1460 non-null   int64  \n",
            " 57  QualdiadeLareira      770 non-null    object \n",
            " 58  LocalGaragem          1379 non-null   object \n",
            " 59  AnoGaragem            1379 non-null   float64\n",
            " 60  AcabamentoGaragem     1379 non-null   object \n",
            " 61  CarrosGaragem         1460 non-null   int64  \n",
            " 62  AreaGaragem           1460 non-null   int64  \n",
            " 63  QualidadeGaragem      1379 non-null   object \n",
            " 64  CondicaoGaragem       1379 non-null   object \n",
            " 65  EntradaPavimentada    1460 non-null   object \n",
            " 66  AreaDeck              1460 non-null   int64  \n",
            " 67  AreaVarandaAberta     1460 non-null   int64  \n",
            " 68  AreaVarandaFechada    1460 non-null   int64  \n",
            " 69  AreaVaranda3Estacoes  1460 non-null   int64  \n",
            " 70  AreaAlpendre          1460 non-null   int64  \n",
            " 71  AreaPiscina           1460 non-null   int64  \n",
            " 72  QualidadePiscina      7 non-null      object \n",
            " 73  QualidadeCerca        281 non-null    object \n",
            " 74  Outros                54 non-null     object \n",
            " 75  ValorOutros           1460 non-null   int64  \n",
            " 76  MesVenda              1460 non-null   int64  \n",
            " 77  AnoVenda              1460 non-null   int64  \n",
            " 78  TipoVenda             1460 non-null   object \n",
            " 79  CondicaoVenda         1460 non-null   object \n",
            " 80  PrecoVenda            1460 non-null   int64  \n",
            "dtypes: float64(3), int64(35), object(43)\n",
            "memory usage: 924.0+ KB\n"
          ]
        }
      ],
      "source": [
        "#Vamos ver os tipo de variáveis em nosso dataframe\n",
        "df.info()"
      ]
    },
    {
      "cell_type": "code",
      "source": [
        "#Observando possíveis dados faltantes\n",
        "df.isnull().sum().head(40)"
      ],
      "metadata": {
        "colab": {
          "base_uri": "https://localhost:8080/"
        },
        "id": "KTeyj9q0RpIc",
        "outputId": "0222c11f-88cb-4e2d-a651-4ada77105249"
      },
      "execution_count": 11,
      "outputs": [
        {
          "output_type": "execute_result",
          "data": {
            "text/plain": [
              "Id                       0\n",
              "ClasseImovel             0\n",
              "ClasseZona               0\n",
              "Fachada                259\n",
              "TamanhoLote              0\n",
              "Rua                      0\n",
              "Beco                  1369\n",
              "FormaProp                0\n",
              "PlanoProp                0\n",
              "Servicos                 0\n",
              "ConfigLote               0\n",
              "InclinacaoLote           0\n",
              "Bairro                   0\n",
              "Estrada1                 0\n",
              "Estrada2                 0\n",
              "TipoHabitacao            0\n",
              "EstiloHabitacao          0\n",
              "Qualidade                0\n",
              "Condicao                 0\n",
              "AnoConstrucao            0\n",
              "AnoReforma               0\n",
              "TipoTelhado              0\n",
              "MaterialTelhado          0\n",
              "Exterior1                0\n",
              "Exterior2                0\n",
              "TipoAlvenaria            8\n",
              "AreaAlvenaria            8\n",
              "QualidadeCobertura       0\n",
              "CondicaoExterna          0\n",
              "TipoFundacao             0\n",
              "AlturaPorao             37\n",
              "CondicaoPorao           37\n",
              "ParedePorao             38\n",
              "TipoAcabPorao1          37\n",
              "AreaAcabPorao1           0\n",
              "TipoAcabPorao2          38\n",
              "AreaAcabPorao2           0\n",
              "AreaInacabPorao          0\n",
              "AreaPorao                0\n",
              "Aquecimento              0\n",
              "dtype: int64"
            ]
          },
          "metadata": {},
          "execution_count": 11
        }
      ]
    },
    {
      "cell_type": "code",
      "source": [
        "#Observando possíveis dados faltantes\n",
        "df.isnull().sum().tail(40)"
      ],
      "metadata": {
        "colab": {
          "base_uri": "https://localhost:8080/"
        },
        "id": "-R3n7SwURQiI",
        "outputId": "83e608b3-3fa9-45f5-89a0-1038c98e95b8"
      },
      "execution_count": 12,
      "outputs": [
        {
          "output_type": "execute_result",
          "data": {
            "text/plain": [
              "ArCentral                  0\n",
              "InstalacaoEletrica         1\n",
              "AreaTerreo                 0\n",
              "Area2Andar                 0\n",
              "BaixaQualiAreaAcab         0\n",
              "AreaConstruida             0\n",
              "BanheiroPorao              0\n",
              "LavaboPorao                0\n",
              "Banheiro                   0\n",
              "Lavabo                     0\n",
              "BedroomAbvGr               0\n",
              "KitchenAbvGr               0\n",
              "QualidadeCozinha           0\n",
              "TotalQuartos               0\n",
              "Funcionalidade             0\n",
              "Lareira                    0\n",
              "QualdiadeLareira         690\n",
              "LocalGaragem              81\n",
              "AnoGaragem                81\n",
              "AcabamentoGaragem         81\n",
              "CarrosGaragem              0\n",
              "AreaGaragem                0\n",
              "QualidadeGaragem          81\n",
              "CondicaoGaragem           81\n",
              "EntradaPavimentada         0\n",
              "AreaDeck                   0\n",
              "AreaVarandaAberta          0\n",
              "AreaVarandaFechada         0\n",
              "AreaVaranda3Estacoes       0\n",
              "AreaAlpendre               0\n",
              "AreaPiscina                0\n",
              "QualidadePiscina        1453\n",
              "QualidadeCerca          1179\n",
              "Outros                  1406\n",
              "ValorOutros                0\n",
              "MesVenda                   0\n",
              "AnoVenda                   0\n",
              "TipoVenda                  0\n",
              "CondicaoVenda              0\n",
              "PrecoVenda                 0\n",
              "dtype: int64"
            ]
          },
          "metadata": {},
          "execution_count": 12
        }
      ]
    },
    {
      "cell_type": "code",
      "source": [
        "#Tratamento dos missings\n",
        "df[\"QualidadePiscina\"] = df[\"QualidadePiscina\"].fillna(0)\n",
        "df[\"QualidadeCerca\"] = df[\"QualidadeCerca\"].fillna(0)\n",
        "df[\"Outros\"] = df[\"Outros\"].fillna(0)\n",
        "df[\"Beco\"]= df[\"Beco\"].fillna(0)\n",
        "df[\"InstalacaoEletrica\"] = df[\"InstalacaoEletrica\"].fillna(0)\n",
        "df[\"Fachada\"] = df[\"Fachada\"].fillna(70.05)\n",
        "df[\"AlturaPorao\"] = df[\"AlturaPorao\"].fillna(\"TA\")\n",
        "df[\"CondicaoPorao\"] = df[\"CondicaoPorao\"].fillna(\"TA\")\n",
        "df[\"ParedePorao\"] = df[\"ParedePorao\"].fillna(\"No\")\n",
        "df[\"TipoAcabPorao1\"] = df[\"TipoAcabPorao1\"].fillna(\"Unf\")\n",
        "df[\"TipoAcabPorao2\"] = df[\"TipoAcabPorao2\"].fillna(\"Unf\")\n",
        "df[\"InstalacaoEletrica\"] = df[\"InstalacaoEletrica\"].fillna(\"SBrkr\")\n",
        "df[\"QualdiadeLareira\"] = df[\"QualdiadeLareira\"].fillna(\"Gd\")\n",
        "df[\"LocalGaragem\"] = df[\"LocalGaragem\"].fillna(\"Attchd\")\n",
        "df[\"AnoGaragem\"] = df[\"AnoGaragem\"].fillna(1978.50)\n",
        "df[\"AcabamentoGaragem\"] = df[\"AcabamentoGaragem\"].fillna(\"Unf\")\n",
        "df[\"QualidadeGaragem\"] = df[\"QualidadeGaragem\"].fillna(\"TA\")\n",
        "df[\"CondicaoGaragem\"] = df[\"CondicaoGaragem\"].fillna(\"TA\")"
      ],
      "metadata": {
        "id": "aicSLKrQRcKP"
      },
      "execution_count": 13,
      "outputs": []
    },
    {
      "cell_type": "code",
      "source": [
        "#Checando novamente o dataset e eliminação dos missings\n",
        "df.isnull().sum().head(40)"
      ],
      "metadata": {
        "colab": {
          "base_uri": "https://localhost:8080/"
        },
        "id": "NRhn--FzYQi8",
        "outputId": "f3ea4ba9-4b39-437b-b7c0-9af90f77cdd1"
      },
      "execution_count": 14,
      "outputs": [
        {
          "output_type": "execute_result",
          "data": {
            "text/plain": [
              "Id                    0\n",
              "ClasseImovel          0\n",
              "ClasseZona            0\n",
              "Fachada               0\n",
              "TamanhoLote           0\n",
              "Rua                   0\n",
              "Beco                  0\n",
              "FormaProp             0\n",
              "PlanoProp             0\n",
              "Servicos              0\n",
              "ConfigLote            0\n",
              "InclinacaoLote        0\n",
              "Bairro                0\n",
              "Estrada1              0\n",
              "Estrada2              0\n",
              "TipoHabitacao         0\n",
              "EstiloHabitacao       0\n",
              "Qualidade             0\n",
              "Condicao              0\n",
              "AnoConstrucao         0\n",
              "AnoReforma            0\n",
              "TipoTelhado           0\n",
              "MaterialTelhado       0\n",
              "Exterior1             0\n",
              "Exterior2             0\n",
              "TipoAlvenaria         8\n",
              "AreaAlvenaria         8\n",
              "QualidadeCobertura    0\n",
              "CondicaoExterna       0\n",
              "TipoFundacao          0\n",
              "AlturaPorao           0\n",
              "CondicaoPorao         0\n",
              "ParedePorao           0\n",
              "TipoAcabPorao1        0\n",
              "AreaAcabPorao1        0\n",
              "TipoAcabPorao2        0\n",
              "AreaAcabPorao2        0\n",
              "AreaInacabPorao       0\n",
              "AreaPorao             0\n",
              "Aquecimento           0\n",
              "dtype: int64"
            ]
          },
          "metadata": {},
          "execution_count": 14
        }
      ]
    },
    {
      "cell_type": "code",
      "source": [
        "#Checando novamente o dataset e eliminação dos missings\n",
        "df.isnull().sum().tail(41)"
      ],
      "metadata": {
        "colab": {
          "base_uri": "https://localhost:8080/"
        },
        "id": "AJvYGiaUAJws",
        "outputId": "d564b122-b6dd-44aa-f4c7-3311f58b7500"
      },
      "execution_count": 15,
      "outputs": [
        {
          "output_type": "execute_result",
          "data": {
            "text/plain": [
              "QualidadeAquecimento    0\n",
              "ArCentral               0\n",
              "InstalacaoEletrica      0\n",
              "AreaTerreo              0\n",
              "Area2Andar              0\n",
              "BaixaQualiAreaAcab      0\n",
              "AreaConstruida          0\n",
              "BanheiroPorao           0\n",
              "LavaboPorao             0\n",
              "Banheiro                0\n",
              "Lavabo                  0\n",
              "BedroomAbvGr            0\n",
              "KitchenAbvGr            0\n",
              "QualidadeCozinha        0\n",
              "TotalQuartos            0\n",
              "Funcionalidade          0\n",
              "Lareira                 0\n",
              "QualdiadeLareira        0\n",
              "LocalGaragem            0\n",
              "AnoGaragem              0\n",
              "AcabamentoGaragem       0\n",
              "CarrosGaragem           0\n",
              "AreaGaragem             0\n",
              "QualidadeGaragem        0\n",
              "CondicaoGaragem         0\n",
              "EntradaPavimentada      0\n",
              "AreaDeck                0\n",
              "AreaVarandaAberta       0\n",
              "AreaVarandaFechada      0\n",
              "AreaVaranda3Estacoes    0\n",
              "AreaAlpendre            0\n",
              "AreaPiscina             0\n",
              "QualidadePiscina        0\n",
              "QualidadeCerca          0\n",
              "Outros                  0\n",
              "ValorOutros             0\n",
              "MesVenda                0\n",
              "AnoVenda                0\n",
              "TipoVenda               0\n",
              "CondicaoVenda           0\n",
              "PrecoVenda              0\n",
              "dtype: int64"
            ]
          },
          "metadata": {},
          "execution_count": 15
        }
      ]
    },
    {
      "cell_type": "code",
      "source": [
        "#Visualizando as colunas\n",
        "df.columns"
      ],
      "metadata": {
        "colab": {
          "base_uri": "https://localhost:8080/"
        },
        "id": "wSUytFVWkhyd",
        "outputId": "2f3b55d7-3523-4768-ef34-42fda3d22974"
      },
      "execution_count": 16,
      "outputs": [
        {
          "output_type": "execute_result",
          "data": {
            "text/plain": [
              "Index(['Id', 'ClasseImovel', 'ClasseZona', 'Fachada', 'TamanhoLote', 'Rua',\n",
              "       'Beco', 'FormaProp', 'PlanoProp', 'Servicos', 'ConfigLote',\n",
              "       'InclinacaoLote', 'Bairro', 'Estrada1', 'Estrada2', 'TipoHabitacao',\n",
              "       'EstiloHabitacao', 'Qualidade', 'Condicao', 'AnoConstrucao',\n",
              "       'AnoReforma', 'TipoTelhado', 'MaterialTelhado', 'Exterior1',\n",
              "       'Exterior2', 'TipoAlvenaria', 'AreaAlvenaria', 'QualidadeCobertura',\n",
              "       'CondicaoExterna', 'TipoFundacao', 'AlturaPorao', 'CondicaoPorao',\n",
              "       'ParedePorao', 'TipoAcabPorao1', 'AreaAcabPorao1', 'TipoAcabPorao2',\n",
              "       'AreaAcabPorao2', 'AreaInacabPorao', 'AreaPorao', 'Aquecimento',\n",
              "       'QualidadeAquecimento', 'ArCentral', 'InstalacaoEletrica', 'AreaTerreo',\n",
              "       'Area2Andar', 'BaixaQualiAreaAcab', 'AreaConstruida', 'BanheiroPorao',\n",
              "       'LavaboPorao', 'Banheiro', 'Lavabo', 'BedroomAbvGr', 'KitchenAbvGr',\n",
              "       'QualidadeCozinha', 'TotalQuartos', 'Funcionalidade', 'Lareira',\n",
              "       'QualdiadeLareira', 'LocalGaragem', 'AnoGaragem', 'AcabamentoGaragem',\n",
              "       'CarrosGaragem', 'AreaGaragem', 'QualidadeGaragem', 'CondicaoGaragem',\n",
              "       'EntradaPavimentada', 'AreaDeck', 'AreaVarandaAberta',\n",
              "       'AreaVarandaFechada', 'AreaVaranda3Estacoes', 'AreaAlpendre',\n",
              "       'AreaPiscina', 'QualidadePiscina', 'QualidadeCerca', 'Outros',\n",
              "       'ValorOutros', 'MesVenda', 'AnoVenda', 'TipoVenda', 'CondicaoVenda',\n",
              "       'PrecoVenda'],\n",
              "      dtype='object')"
            ]
          },
          "metadata": {},
          "execution_count": 16
        }
      ]
    },
    {
      "cell_type": "code",
      "source": [
        "# Relação dos preços de venda das propriedades\n",
        "plt.figure(figsize=(8,5))\n",
        "sns.histplot(df[\"PrecoVenda\"], kde = True)\n",
        "plt.title(\"Valores de Venda\")\n",
        "plt.show()"
      ],
      "metadata": {
        "colab": {
          "base_uri": "https://localhost:8080/",
          "height": 350
        },
        "id": "7pEpXw4Wn4Ah",
        "outputId": "bbc9ed13-4909-48d9-c8aa-7c54a882f30b"
      },
      "execution_count": 17,
      "outputs": [
        {
          "output_type": "display_data",
          "data": {
            "text/plain": [
              "<Figure size 576x360 with 1 Axes>"
            ],
            "image/png": "[encoded data removed]"
          },
          "metadata": {
            "needs_background": "light"
          }
        }
      ]
    },
    {
      "cell_type": "code",
      "source": [
        "#Analisando possíveis outliers da variável PrecoVenda \n",
        "plt.figure(figsize=(8,5))\n",
        "sns.boxplot(df[\"PrecoVenda\"])\n",
        "plt.title(\"Valores de venda (Boxplot)\")\n",
        "plt.show()"
      ],
      "metadata": {
        "colab": {
          "base_uri": "https://localhost:8080/",
          "height": 405
        },
        "id": "Y4dnY651n5PQ",
        "outputId": "97cf7c60-f9b1-4549-a4ec-3053a7560e96"
      },
      "execution_count": 18,
      "outputs": [
        {
          "output_type": "stream",
          "name": "stderr",
          "text": [
            "/usr/local/lib/python3.7/dist-packages/seaborn/_decorators.py:43: FutureWarning: Pass the following variable as a keyword arg: x. From version 0.12, the only valid positional argument will be `data`, and passing other arguments without an explicit keyword will result in an error or misinterpretation.\n",
            "  FutureWarning\n"
          ]
        },
        {
          "output_type": "display_data",
          "data": {
            "text/plain": [
              "<Figure size 576x360 with 1 Axes>"
            ],
            "image/png": "[encoded data removed]"
          },
          "metadata": {
            "needs_background": "light"
          }
        }
      ]
    },
    {
      "cell_type": "code",
      "execution_count": 19,
      "metadata": {
        "id": "kPkSujC-RjB1",
        "colab": {
          "base_uri": "https://localhost:8080/",
          "height": 351
        },
        "outputId": "8edd7bd4-daea-416e-f476-da4be6b120de"
      },
      "outputs": [
        {
          "output_type": "display_data",
          "data": {
            "text/plain": [
              "<Figure size 576x360 with 1 Axes>"
            ],
            "image/png": "[encoded data removed]"
          },
          "metadata": {
            "needs_background": "light"
          }
        }
      ],
      "source": [
        "# Verificando tamanho do lote dos terrenos vendidos\n",
        "plt.figure(figsize=(8,5))\n",
        "sns.histplot(df[\"AreaConstruida\"], kde = True)\n",
        "plt.title(\"Área de Construção\")\n",
        "plt.show()"
      ]
    },
    {
      "cell_type": "code",
      "source": [
        "#Analisando possíveis outliers da variável PrecoVenda \n",
        "plt.figure(figsize=(8,5))\n",
        "sns.boxplot(df[\"AreaConstruida\"])\n",
        "plt.title(\"Área Construida (Boxplot)\")\n",
        "plt.show()"
      ],
      "metadata": {
        "colab": {
          "base_uri": "https://localhost:8080/",
          "height": 406
        },
        "id": "rPMa7fVCogHw",
        "outputId": "43f56d7d-bac9-4617-e8c3-ff73983314fe"
      },
      "execution_count": 20,
      "outputs": [
        {
          "output_type": "stream",
          "name": "stderr",
          "text": [
            "/usr/local/lib/python3.7/dist-packages/seaborn/_decorators.py:43: FutureWarning: Pass the following variable as a keyword arg: x. From version 0.12, the only valid positional argument will be `data`, and passing other arguments without an explicit keyword will result in an error or misinterpretation.\n",
            "  FutureWarning\n"
          ]
        },
        {
          "output_type": "display_data",
          "data": {
            "text/plain": [
              "<Figure size 576x360 with 1 Axes>"
            ],
            "image/png": "[encoded data removed]"
          },
          "metadata": {
            "needs_background": "light"
          }
        }
      ]
    },
    {
      "cell_type": "code",
      "execution_count": 21,
      "metadata": {
        "id": "lavkR7GaRkMG",
        "colab": {
          "base_uri": "https://localhost:8080/",
          "height": 350
        },
        "outputId": "8b50e391-bb2b-4d9d-8873-342e239957bd"
      },
      "outputs": [
        {
          "output_type": "display_data",
          "data": {
            "text/plain": [
              "<Figure size 576x360 with 1 Axes>"
            ],
            "image/png": "[encoded data removed]"
          },
          "metadata": {
            "needs_background": "light"
          }
        }
      ],
      "source": [
        "# Verificando tamanho do lote dos terrenos vendidos\n",
        "plt.figure(figsize=(8,5))\n",
        "sns.histplot(df[\"TamanhoLote\"], kde = True)\n",
        "plt.title(\"Tamanho do lote do terreno\")\n",
        "plt.show()"
      ]
    },
    {
      "cell_type": "code",
      "execution_count": 22,
      "metadata": {
        "id": "USdCXIBjRqka",
        "colab": {
          "base_uri": "https://localhost:8080/",
          "height": 394
        },
        "outputId": "728b4a45-263d-40e2-8ea3-30bdfac8130c"
      },
      "outputs": [
        {
          "output_type": "execute_result",
          "data": {
            "text/plain": [
              "<seaborn.axisgrid.PairGrid at 0x7ff01ea65e10>"
            ]
          },
          "metadata": {},
          "execution_count": 22
        },
        {
          "output_type": "display_data",
          "data": {
            "text/plain": [
              "<Figure size 180x180 with 1 Axes>"
            ],
            "image/png": "[encoded data removed]"
          },
          "metadata": {
            "needs_background": "light"
          }
        },
        {
          "output_type": "display_data",
          "data": {
            "text/plain": [
              "<Figure size 180x180 with 1 Axes>"
            ],
            "image/png": "[encoded data removed]"
          },
          "metadata": {
            "needs_background": "light"
          }
        }
      ],
      "source": [
        "#Agora vamos observar se há uma possível relação entre as variáveis preço de venda e tamanho do lote e preço de venda e área construida \n",
        "\n",
        "sns.pairplot(y_vars='TamanhoLote', x_vars=['PrecoVenda'], data=df)\n",
        "\n",
        "sns.pairplot(y_vars='AreaConstruida', x_vars=['PrecoVenda'], data=df)\n",
        "\n",
        "#No 1 gráfico notamos que o tamanho do lote não interfere muito no preço, sendo que o tamanho está concentrado em uma região\n",
        "\n",
        "#No 2 gráfico notamos que há uma forte relação entre área construída e preço de venda"
      ]
    },
    {
      "cell_type": "code",
      "source": [
        "#Agora vamos observar se há uma possível relação entre as variáveis preço de venda e área da garagem e preço de venda e ano de construção da casa\n",
        "\n",
        "sns.pairplot(y_vars='AreaGaragem', x_vars=['PrecoVenda'], data=df)\n",
        "\n",
        "sns.pairplot(y_vars='AnoConstrucao', x_vars=['PrecoVenda'], data=df)\n",
        "\n",
        "# Há uma boa  correlação entre a área da garagem e o preço de venda, onde são grandezas diretamente proporcionais\n"
      ],
      "metadata": {
        "colab": {
          "base_uri": "https://localhost:8080/",
          "height": 394
        },
        "id": "jcfQAdG3PmAr",
        "outputId": "d806c988-8d8a-414e-f39b-94d87fc3da47"
      },
      "execution_count": 23,
      "outputs": [
        {
          "output_type": "execute_result",
          "data": {
            "text/plain": [
              "<seaborn.axisgrid.PairGrid at 0x7ff01b709850>"
            ]
          },
          "metadata": {},
          "execution_count": 23
        },
        {
          "output_type": "display_data",
          "data": {
            "text/plain": [
              "<Figure size 180x180 with 1 Axes>"
            ],
            "image/png": "[encoded data removed]"
          },
          "metadata": {
            "needs_background": "light"
          }
        },
        {
          "output_type": "display_data",
          "data": {
            "text/plain": [
              "<Figure size 180x180 with 1 Axes>"
            ],
            "image/png": "[encoded data removed]"
          },
          "metadata": {
            "needs_background": "light"
          }
        }
      ]
    },
    {
      "cell_type": "code",
      "source": [
        "#Agora vamos observar se há uma possível relação entre as variáveis preço de venda e área da garagem e preço de venda e ano de construção da casa\n",
        "\n",
        "sns.pairplot(y_vars='Qualidade', x_vars=['PrecoVenda'], data=df)\n",
        "\n",
        "# Há uma boa  correlação entre a Qualidade e o preço de venda, onde são grandezas diretamente proporcionais"
      ],
      "metadata": {
        "colab": {
          "base_uri": "https://localhost:8080/",
          "height": 214
        },
        "id": "zZK5gjOYxm7m",
        "outputId": "0803e2ce-db3b-4b62-cb29-cc01df2da347"
      },
      "execution_count": 24,
      "outputs": [
        {
          "output_type": "execute_result",
          "data": {
            "text/plain": [
              "<seaborn.axisgrid.PairGrid at 0x7ff01b60acd0>"
            ]
          },
          "metadata": {},
          "execution_count": 24
        },
        {
          "output_type": "display_data",
          "data": {
            "text/plain": [
              "<Figure size 180x180 with 1 Axes>"
            ],
            "image/png": "[encoded data removed]"
          },
          "metadata": {
            "needs_background": "light"
          }
        }
      ]
    },
    {
      "cell_type": "code",
      "source": [
        "# Checando mais correlações com o preço de venda\n",
        "df.corr()[\"PrecoVenda\"].sort_values(ascending= False)\n"
      ],
      "metadata": {
        "colab": {
          "base_uri": "https://localhost:8080/"
        },
        "id": "icnLlyaUnLCa",
        "outputId": "215572cc-e67a-4231-bfc2-2a3edd746e45"
      },
      "execution_count": 25,
      "outputs": [
        {
          "output_type": "execute_result",
          "data": {
            "text/plain": [
              "PrecoVenda              1.000000\n",
              "Qualidade               0.790982\n",
              "AreaConstruida          0.708624\n",
              "CarrosGaragem           0.640409\n",
              "AreaGaragem             0.623431\n",
              "AreaPorao               0.613581\n",
              "AreaTerreo              0.605852\n",
              "Banheiro                0.560664\n",
              "TotalQuartos            0.533723\n",
              "AnoConstrucao           0.522897\n",
              "AnoReforma              0.507101\n",
              "AreaAlvenaria           0.477493\n",
              "AnoGaragem              0.470191\n",
              "Lareira                 0.466929\n",
              "AreaAcabPorao1          0.386420\n",
              "Fachada                 0.334901\n",
              "AreaDeck                0.324413\n",
              "Area2Andar              0.319334\n",
              "AreaVarandaAberta       0.315856\n",
              "Lavabo                  0.284108\n",
              "TamanhoLote             0.263843\n",
              "BanheiroPorao           0.227122\n",
              "AreaInacabPorao         0.214479\n",
              "BedroomAbvGr            0.168213\n",
              "AreaAlpendre            0.111447\n",
              "AreaPiscina             0.092404\n",
              "MesVenda                0.046432\n",
              "AreaVaranda3Estacoes    0.044584\n",
              "AreaAcabPorao2         -0.011378\n",
              "LavaboPorao            -0.016844\n",
              "ValorOutros            -0.021190\n",
              "Id                     -0.021917\n",
              "BaixaQualiAreaAcab     -0.025606\n",
              "AnoVenda               -0.028923\n",
              "Condicao               -0.077856\n",
              "ClasseImovel           -0.084284\n",
              "AreaVarandaFechada     -0.128578\n",
              "KitchenAbvGr           -0.135907\n",
              "Name: PrecoVenda, dtype: float64"
            ]
          },
          "metadata": {},
          "execution_count": 25
        }
      ]
    },
    {
      "cell_type": "code",
      "source": [
        "#Eliminando outliers da variável PrecoVenda\n",
        "df2 = df.drop(df[df[\"PrecoVenda\"] > 350000].index)"
      ],
      "metadata": {
        "id": "R_nUNr84wz_t"
      },
      "execution_count": 26,
      "outputs": []
    },
    {
      "cell_type": "code",
      "source": [
        "df2.shape"
      ],
      "metadata": {
        "colab": {
          "base_uri": "https://localhost:8080/"
        },
        "id": "a_BmQw1o2G6f",
        "outputId": "83f265e9-db22-48ec-bb12-8225ee0e4fca"
      },
      "execution_count": 27,
      "outputs": [
        {
          "output_type": "execute_result",
          "data": {
            "text/plain": [
              "(1406, 81)"
            ]
          },
          "metadata": {},
          "execution_count": 27
        }
      ]
    },
    {
      "cell_type": "code",
      "source": [
        "#Utilizando o método OneHotEncoder para transformação em  variáveis numéricas\n",
        "df2 = pd.get_dummies(df, drop_first = True )"
      ],
      "metadata": {
        "id": "QRXTR5i3pZNr"
      },
      "execution_count": 28,
      "outputs": []
    },
    {
      "cell_type": "code",
      "source": [
        "df2.shape\n"
      ],
      "metadata": {
        "colab": {
          "base_uri": "https://localhost:8080/"
        },
        "id": "WgiBlpmYp3K1",
        "outputId": "465543a8-1091-46ad-e0a6-d7932e57c8ab"
      },
      "execution_count": 29,
      "outputs": [
        {
          "output_type": "execute_result",
          "data": {
            "text/plain": [
              "(1460, 252)"
            ]
          },
          "metadata": {},
          "execution_count": 29
        }
      ]
    },
    {
      "cell_type": "markdown",
      "source": [
        "**2 - Statsmodel e coeficientes**"
      ],
      "metadata": {
        "id": "5pB2FSF9qBkB"
      }
    },
    {
      "cell_type": "code",
      "source": [
        "df2.head()"
      ],
      "metadata": {
        "colab": {
          "base_uri": "https://localhost:8080/",
          "height": 300
        },
        "id": "x9wQpO4gajKs",
        "outputId": "7c7af075-4e93-4fb7-a6ce-00597d04860f"
      },
      "execution_count": 30,
      "outputs": [
        {
          "output_type": "execute_result",
          "data": {
            "text/plain": [
              "   Id  ClasseImovel  Fachada  TamanhoLote  Qualidade  Condicao  AnoConstrucao  \\\n",
              "0   1            60     65.0         8450          7         5           2003   \n",
              "1   2            20     80.0         9600          6         8           1976   \n",
              "2   3            60     68.0        11250          7         5           2001   \n",
              "3   4            70     60.0         9550          7         5           1915   \n",
              "4   5            60     84.0        14260          8         5           2000   \n",
              "\n",
              "   AnoReforma  AreaAlvenaria  AreaAcabPorao1  ...  TipoVenda_ConLI  \\\n",
              "0        2003          196.0             706  ...                0   \n",
              "1        1976            0.0             978  ...                0   \n",
              "2        2002          162.0             486  ...                0   \n",
              "3        1970            0.0             216  ...                0   \n",
              "4        2000          350.0             655  ...                0   \n",
              "\n",
              "   TipoVenda_ConLw  TipoVenda_New  TipoVenda_Oth  TipoVenda_WD  \\\n",
              "0                0              0              0             1   \n",
              "1                0              0              0             1   \n",
              "2                0              0              0             1   \n",
              "3                0              0              0             1   \n",
              "4                0              0              0             1   \n",
              "\n",
              "   CondicaoVenda_AdjLand  CondicaoVenda_Alloca  CondicaoVenda_Family  \\\n",
              "0                      0                     0                     0   \n",
              "1                      0                     0                     0   \n",
              "2                      0                     0                     0   \n",
              "3                      0                     0                     0   \n",
              "4                      0                     0                     0   \n",
              "\n",
              "   CondicaoVenda_Normal  CondicaoVenda_Partial  \n",
              "0                     1                      0  \n",
              "1                     1                      0  \n",
              "2                     1                      0  \n",
              "3                     0                      0  \n",
              "4                     1                      0  \n",
              "\n",
              "[5 rows x 252 columns]"
            ],
            "text/html": [
              "\n",
              "  <div id=\"df-294f3fd1-ce59-476b-af28-d67a0c7b78c2\">\n",
              "    <div class=\"colab-df-container\">\n",
              "      <div>\n",
              "<style scoped>\n",
              "    .dataframe tbody tr th:only-of-type {\n",
              "        vertical-align: middle;\n",
              "    }\n",
              "\n",
              "    .dataframe tbody tr th {\n",
              "        vertical-align: top;\n",
              "    }\n",
              "\n",
              "    .dataframe thead th {\n",
              "        text-align: right;\n",
              "    }\n",
              "</style>\n",
              "<table border=\"1\" class=\"dataframe\">\n",
              "  <thead>\n",
              "    <tr style=\"text-align: right;\">\n",
              "      <th></th>\n",
              "      <th>Id</th>\n",
              "      <th>ClasseImovel</th>\n",
              "      <th>Fachada</th>\n",
              "      <th>TamanhoLote</th>\n",
              "      <th>Qualidade</th>\n",
              "      <th>Condicao</th>\n",
              "      <th>AnoConstrucao</th>\n",
              "      <th>AnoReforma</th>\n",
              "      <th>AreaAlvenaria</th>\n",
              "      <th>AreaAcabPorao1</th>\n",
              "      <th>...</th>\n",
              "      <th>TipoVenda_ConLI</th>\n",
              "      <th>TipoVenda_ConLw</th>\n",
              "      <th>TipoVenda_New</th>\n",
              "      <th>TipoVenda_Oth</th>\n",
              "      <th>TipoVenda_WD</th>\n",
              "      <th>CondicaoVenda_AdjLand</th>\n",
              "      <th>CondicaoVenda_Alloca</th>\n",
              "      <th>CondicaoVenda_Family</th>\n",
              "      <th>CondicaoVenda_Normal</th>\n",
              "      <th>CondicaoVenda_Partial</th>\n",
              "    </tr>\n",
              "  </thead>\n",
              "  <tbody>\n",
              "    <tr>\n",
              "      <th>0</th>\n",
              "      <td>1</td>\n",
              "      <td>60</td>\n",
              "      <td>65.0</td>\n",
              "      <td>8450</td>\n",
              "      <td>7</td>\n",
              "      <td>5</td>\n",
              "      <td>2003</td>\n",
              "      <td>2003</td>\n",
              "      <td>196.0</td>\n",
              "      <td>706</td>\n",
              "      <td>...</td>\n",
              "      <td>0</td>\n",
              "      <td>0</td>\n",
              "      <td>0</td>\n",
              "      <td>0</td>\n",
              "      <td>1</td>\n",
              "      <td>0</td>\n",
              "      <td>0</td>\n",
              "      <td>0</td>\n",
              "      <td>1</td>\n",
              "      <td>0</td>\n",
              "    </tr>\n",
              "    <tr>\n",
              "      <th>1</th>\n",
              "      <td>2</td>\n",
              "      <td>20</td>\n",
              "      <td>80.0</td>\n",
              "      <td>9600</td>\n",
              "      <td>6</td>\n",
              "      <td>8</td>\n",
              "      <td>1976</td>\n",
              "      <td>1976</td>\n",
              "      <td>0.0</td>\n",
              "      <td>978</td>\n",
              "      <td>...</td>\n",
              "      <td>0</td>\n",
              "      <td>0</td>\n",
              "      <td>0</td>\n",
              "      <td>0</td>\n",
              "      <td>1</td>\n",
              "      <td>0</td>\n",
              "      <td>0</td>\n",
              "      <td>0</td>\n",
              "      <td>1</td>\n",
              "      <td>0</td>\n",
              "    </tr>\n",
              "    <tr>\n",
              "      <th>2</th>\n",
              "      <td>3</td>\n",
              "      <td>60</td>\n",
              "      <td>68.0</td>\n",
              "      <td>11250</td>\n",
              "      <td>7</td>\n",
              "      <td>5</td>\n",
              "      <td>2001</td>\n",
              "      <td>2002</td>\n",
              "      <td>162.0</td>\n",
              "      <td>486</td>\n",
              "      <td>...</td>\n",
              "      <td>0</td>\n",
              "      <td>0</td>\n",
              "      <td>0</td>\n",
              "      <td>0</td>\n",
              "      <td>1</td>\n",
              "      <td>0</td>\n",
              "      <td>0</td>\n",
              "      <td>0</td>\n",
              "      <td>1</td>\n",
              "      <td>0</td>\n",
              "    </tr>\n",
              "    <tr>\n",
              "      <th>3</th>\n",
              "      <td>4</td>\n",
              "      <td>70</td>\n",
              "      <td>60.0</td>\n",
              "      <td>9550</td>\n",
              "      <td>7</td>\n",
              "      <td>5</td>\n",
              "      <td>1915</td>\n",
              "      <td>1970</td>\n",
              "      <td>0.0</td>\n",
              "      <td>216</td>\n",
              "      <td>...</td>\n",
              "      <td>0</td>\n",
              "      <td>0</td>\n",
              "      <td>0</td>\n",
              "      <td>0</td>\n",
              "      <td>1</td>\n",
              "      <td>0</td>\n",
              "      <td>0</td>\n",
              "      <td>0</td>\n",
              "      <td>0</td>\n",
              "      <td>0</td>\n",
              "    </tr>\n",
              "    <tr>\n",
              "      <th>4</th>\n",
              "      <td>5</td>\n",
              "      <td>60</td>\n",
              "      <td>84.0</td>\n",
              "      <td>14260</td>\n",
              "      <td>8</td>\n",
              "      <td>5</td>\n",
              "      <td>2000</td>\n",
              "      <td>2000</td>\n",
              "      <td>350.0</td>\n",
              "      <td>655</td>\n",
              "      <td>...</td>\n",
              "      <td>0</td>\n",
              "      <td>0</td>\n",
              "      <td>0</td>\n",
              "      <td>0</td>\n",
              "      <td>1</td>\n",
              "      <td>0</td>\n",
              "      <td>0</td>\n",
              "      <td>0</td>\n",
              "      <td>1</td>\n",
              "      <td>0</td>\n",
              "    </tr>\n",
              "  </tbody>\n",
              "</table>\n",
              "<p>5 rows × 252 columns</p>\n",
              "</div>\n",
              "      <button class=\"colab-df-convert\" onclick=\"convertToInteractive('df-294f3fd1-ce59-476b-af28-d67a0c7b78c2')\"\n",
              "              title=\"Convert this dataframe to an interactive table.\"\n",
              "              style=\"display:none;\">\n",
              "        \n",
              "  <svg xmlns=\"http://www.w3.org/2000/svg\" height=\"24px\"viewBox=\"0 0 24 24\"\n",
              "       width=\"24px\">\n",
              "    <path d=\"M0 0h24v24H0V0z\" fill=\"none\"/>\n",
              "    <path d=\"M18.56 5.44l.94 2.06.94-2.06 2.06-.94-2.06-.94-.94-2.06-.94 2.06-2.06.94zm-11 1L8.5 8.5l.94-2.06 2.06-.94-2.06-.94L8.5 2.5l-.94 2.06-2.06.94zm10 10l.94 2.06.94-2.06 2.06-.94-2.06-.94-.94-2.06-.94 2.06-2.06.94z\"/><path d=\"M17.41 7.96l-1.37-1.37c-.4-.4-.92-.59-1.43-.59-.52 0-1.04.2-1.43.59L10.3 9.45l-7.72 7.72c-.78.78-.78 2.05 0 2.83L4 21.41c.39.39.9.59 1.41.59.51 0 1.02-.2 1.41-.59l7.78-7.78 2.81-2.81c.8-.78.8-2.07 0-2.86zM5.41 20L4 18.59l7.72-7.72 1.47 1.35L5.41 20z\"/>\n",
              "  </svg>\n",
              "      </button>\n",
              "      \n",
              "  <style>\n",
              "    .colab-df-container {\n",
              "      display:flex;\n",
              "      flex-wrap:wrap;\n",
              "      gap: 12px;\n",
              "    }\n",
              "\n",
              "    .colab-df-convert {\n",
              "      background-color: #E8F0FE;\n",
              "      border: none;\n",
              "      border-radius: 50%;\n",
              "      cursor: pointer;\n",
              "      display: none;\n",
              "      fill: #1967D2;\n",
              "      height: 32px;\n",
              "      padding: 0 0 0 0;\n",
              "      width: 32px;\n",
              "    }\n",
              "\n",
              "    .colab-df-convert:hover {\n",
              "      background-color: #E2EBFA;\n",
              "      box-shadow: 0px 1px 2px rgba(60, 64, 67, 0.3), 0px 1px 3px 1px rgba(60, 64, 67, 0.15);\n",
              "      fill: #174EA6;\n",
              "    }\n",
              "\n",
              "    [theme=dark] .colab-df-convert {\n",
              "      background-color: #3B4455;\n",
              "      fill: #D2E3FC;\n",
              "    }\n",
              "\n",
              "    [theme=dark] .colab-df-convert:hover {\n",
              "      background-color: #434B5C;\n",
              "      box-shadow: 0px 1px 3px 1px rgba(0, 0, 0, 0.15);\n",
              "      filter: drop-shadow(0px 1px 2px rgba(0, 0, 0, 0.3));\n",
              "      fill: #FFFFFF;\n",
              "    }\n",
              "  </style>\n",
              "\n",
              "      <script>\n",
              "        const buttonEl =\n",
              "          document.querySelector('#df-294f3fd1-ce59-476b-af28-d67a0c7b78c2 button.colab-df-convert');\n",
              "        buttonEl.style.display =\n",
              "          google.colab.kernel.accessAllowed ? 'block' : 'none';\n",
              "\n",
              "        async function convertToInteractive(key) {\n",
              "          const element = document.querySelector('#df-294f3fd1-ce59-476b-af28-d67a0c7b78c2');\n",
              "          const dataTable =\n",
              "            await google.colab.kernel.invokeFunction('convertToInteractive',\n",
              "                                                     [key], {});\n",
              "          if (!dataTable) return;\n",
              "\n",
              "          const docLinkHtml = 'Like what you see? Visit the ' +\n",
              "            '<a target=\"_blank\" href=https://colab.research.google.com/notebooks/data_table.ipynb>data table notebook</a>'\n",
              "            + ' to learn more about interactive tables.';\n",
              "          element.innerHTML = '';\n",
              "          dataTable['output_type'] = 'display_data';\n",
              "          await google.colab.output.renderOutput(dataTable, element);\n",
              "          const docLink = document.createElement('div');\n",
              "          docLink.innerHTML = docLinkHtml;\n",
              "          element.appendChild(docLink);\n",
              "        }\n",
              "      </script>\n",
              "    </div>\n",
              "  </div>\n",
              "  "
            ]
          },
          "metadata": {},
          "execution_count": 30
        }
      ]
    },
    {
      "cell_type": "code",
      "source": [
        "# Separando para a predição\n",
        "\n",
        "# iloc[range de linhas, range de colunas] \n",
        "\n",
        "\n",
        "x = df2.iloc[: , 1:4]\n",
        "y = df2['PrecoVenda']  "
      ],
      "metadata": {
        "id": "uBfNPB8lYfCr"
      },
      "execution_count": 31,
      "outputs": []
    },
    {
      "cell_type": "code",
      "source": [
        "x.shape"
      ],
      "metadata": {
        "colab": {
          "base_uri": "https://localhost:8080/"
        },
        "id": "Qwld7OQLWyFH",
        "outputId": "ce321928-8e73-4b01-9cd3-54c6362682be"
      },
      "execution_count": 32,
      "outputs": [
        {
          "output_type": "execute_result",
          "data": {
            "text/plain": [
              "(1460, 3)"
            ]
          },
          "metadata": {},
          "execution_count": 32
        }
      ]
    },
    {
      "cell_type": "code",
      "source": [
        "y"
      ],
      "metadata": {
        "colab": {
          "base_uri": "https://localhost:8080/"
        },
        "id": "FspkhZZeWzRA",
        "outputId": "3731ecd6-a4a2-4bd9-8da5-f3cc25af26ff"
      },
      "execution_count": 33,
      "outputs": [
        {
          "output_type": "execute_result",
          "data": {
            "text/plain": [
              "0       208500\n",
              "1       181500\n",
              "2       223500\n",
              "3       140000\n",
              "4       250000\n",
              "         ...  \n",
              "1455    175000\n",
              "1456    210000\n",
              "1457    266500\n",
              "1458    142125\n",
              "1459    147500\n",
              "Name: PrecoVenda, Length: 1460, dtype: int64"
            ]
          },
          "metadata": {},
          "execution_count": 33
        }
      ]
    },
    {
      "cell_type": "code",
      "source": [
        "#Criando modelo\n",
        "modeloo = sm.OLS(list(y),np.array(x))\n"
      ],
      "metadata": {
        "id": "GzTKw-KHr0hk"
      },
      "execution_count": 34,
      "outputs": []
    },
    {
      "cell_type": "code",
      "source": [
        "#Plotando resultado\n",
        "resultado = modeloo.fit()"
      ],
      "metadata": {
        "id": "W1TaX87Yr5hG"
      },
      "execution_count": 35,
      "outputs": []
    },
    {
      "cell_type": "code",
      "source": [
        "print(resultado.summary())"
      ],
      "metadata": {
        "colab": {
          "base_uri": "https://localhost:8080/"
        },
        "id": "CZRQXqclsCI8",
        "outputId": "e6bc5279-3dd7-4053-d542-08beed8f5136"
      },
      "execution_count": 36,
      "outputs": [
        {
          "output_type": "stream",
          "name": "stdout",
          "text": [
            "                                 OLS Regression Results                                \n",
            "=======================================================================================\n",
            "Dep. Variable:                      y   R-squared (uncentered):                   0.851\n",
            "Model:                            OLS   Adj. R-squared (uncentered):              0.851\n",
            "Method:                 Least Squares   F-statistic:                              2776.\n",
            "Date:                Sun, 09 Oct 2022   Prob (F-statistic):                        0.00\n",
            "Time:                        00:31:03   Log-Likelihood:                         -18484.\n",
            "No. Observations:                1460   AIC:                                  3.697e+04\n",
            "Df Residuals:                    1457   BIC:                                  3.699e+04\n",
            "Df Model:                           3                                                  \n",
            "Covariance Type:            nonrobust                                                  \n",
            "==============================================================================\n",
            "                 coef    std err          t      P>|t|      [0.025      0.975]\n",
            "------------------------------------------------------------------------------\n",
            "x1           405.9525     39.556     10.263      0.000     328.360     483.545\n",
            "x2          1958.3721     49.606     39.479      0.000    1861.066    2055.678\n",
            "x3             1.5135      0.210      7.198      0.000       1.101       1.926\n",
            "==============================================================================\n",
            "Omnibus:                      301.556   Durbin-Watson:                   1.992\n",
            "Prob(Omnibus):                  0.000   Jarque-Bera (JB):             2729.729\n",
            "Skew:                           0.692   Prob(JB):                         0.00\n",
            "Kurtosis:                       9.554   Cond. No.                         409.\n",
            "==============================================================================\n",
            "\n",
            "Notes:\n",
            "[1] R² is computed without centering (uncentered) since the model does not contain a constant.\n",
            "[2] Standard Errors assume that the covariance matrix of the errors is correctly specified.\n"
          ]
        }
      ]
    },
    {
      "cell_type": "markdown",
      "source": [
        "**INTERPRETANDO O SUMMARY**\n",
        "\n",
        "- O R2 e o R2 ajustados são próximos, o que indica que as variáveis são significativas na previsão do termo dependente \n",
        "- Como o F está muito elevado e o P valor é 0, temos a rejeição da hipótese nula \n",
        "- O valor do teste t (analisa cada feature individualmente com a variável preditiva) positivos indicam uma rejeição a hipótese nula, nos levando a aceitar novamente que utilizamos variáveis relevantes na predição"
      ],
      "metadata": {
        "id": "lxe6EM5GMDOp"
      }
    },
    {
      "cell_type": "markdown",
      "metadata": {
        "id": "9K3kkM_LTn73"
      },
      "source": [
        "**3- Regressão Linear**"
      ]
    },
    {
      "cell_type": "code",
      "source": [
        "#Rearranjando dataset para a previsão com features mais importantes\n",
        "df2 = df2[[\"Qualidade\", \"AreaConstruida\", \"CarrosGaragem\" , \"AreaGaragem\",'PrecoVenda' ]]\n",
        "df2.head()"
      ],
      "metadata": {
        "id": "U9zzc-9cvxDN",
        "colab": {
          "base_uri": "https://localhost:8080/",
          "height": 206
        },
        "outputId": "684459c5-0361-47d6-b11f-e316c7f59ad6"
      },
      "execution_count": 37,
      "outputs": [
        {
          "output_type": "execute_result",
          "data": {
            "text/plain": [
              "   Qualidade  AreaConstruida  CarrosGaragem  AreaGaragem  PrecoVenda\n",
              "0          7            1710              2          548      208500\n",
              "1          6            1262              2          460      181500\n",
              "2          7            1786              2          608      223500\n",
              "3          7            1717              3          642      140000\n",
              "4          8            2198              3          836      250000"
            ],
            "text/html": [
              "\n",
              "  <div id=\"df-82ea9bfe-caff-4cd6-89ad-913738ada94a\">\n",
              "    <div class=\"colab-df-container\">\n",
              "      <div>\n",
              "<style scoped>\n",
              "    .dataframe tbody tr th:only-of-type {\n",
              "        vertical-align: middle;\n",
              "    }\n",
              "\n",
              "    .dataframe tbody tr th {\n",
              "        vertical-align: top;\n",
              "    }\n",
              "\n",
              "    .dataframe thead th {\n",
              "        text-align: right;\n",
              "    }\n",
              "</style>\n",
              "<table border=\"1\" class=\"dataframe\">\n",
              "  <thead>\n",
              "    <tr style=\"text-align: right;\">\n",
              "      <th></th>\n",
              "      <th>Qualidade</th>\n",
              "      <th>AreaConstruida</th>\n",
              "      <th>CarrosGaragem</th>\n",
              "      <th>AreaGaragem</th>\n",
              "      <th>PrecoVenda</th>\n",
              "    </tr>\n",
              "  </thead>\n",
              "  <tbody>\n",
              "    <tr>\n",
              "      <th>0</th>\n",
              "      <td>7</td>\n",
              "      <td>1710</td>\n",
              "      <td>2</td>\n",
              "      <td>548</td>\n",
              "      <td>208500</td>\n",
              "    </tr>\n",
              "    <tr>\n",
              "      <th>1</th>\n",
              "      <td>6</td>\n",
              "      <td>1262</td>\n",
              "      <td>2</td>\n",
              "      <td>460</td>\n",
              "      <td>181500</td>\n",
              "    </tr>\n",
              "    <tr>\n",
              "      <th>2</th>\n",
              "      <td>7</td>\n",
              "      <td>1786</td>\n",
              "      <td>2</td>\n",
              "      <td>608</td>\n",
              "      <td>223500</td>\n",
              "    </tr>\n",
              "    <tr>\n",
              "      <th>3</th>\n",
              "      <td>7</td>\n",
              "      <td>1717</td>\n",
              "      <td>3</td>\n",
              "      <td>642</td>\n",
              "      <td>140000</td>\n",
              "    </tr>\n",
              "    <tr>\n",
              "      <th>4</th>\n",
              "      <td>8</td>\n",
              "      <td>2198</td>\n",
              "      <td>3</td>\n",
              "      <td>836</td>\n",
              "      <td>250000</td>\n",
              "    </tr>\n",
              "  </tbody>\n",
              "</table>\n",
              "</div>\n",
              "      <button class=\"colab-df-convert\" onclick=\"convertToInteractive('df-82ea9bfe-caff-4cd6-89ad-913738ada94a')\"\n",
              "              title=\"Convert this dataframe to an interactive table.\"\n",
              "              style=\"display:none;\">\n",
              "        \n",
              "  <svg xmlns=\"http://www.w3.org/2000/svg\" height=\"24px\"viewBox=\"0 0 24 24\"\n",
              "       width=\"24px\">\n",
              "    <path d=\"M0 0h24v24H0V0z\" fill=\"none\"/>\n",
              "    <path d=\"M18.56 5.44l.94 2.06.94-2.06 2.06-.94-2.06-.94-.94-2.06-.94 2.06-2.06.94zm-11 1L8.5 8.5l.94-2.06 2.06-.94-2.06-.94L8.5 2.5l-.94 2.06-2.06.94zm10 10l.94 2.06.94-2.06 2.06-.94-2.06-.94-.94-2.06-.94 2.06-2.06.94z\"/><path d=\"M17.41 7.96l-1.37-1.37c-.4-.4-.92-.59-1.43-.59-.52 0-1.04.2-1.43.59L10.3 9.45l-7.72 7.72c-.78.78-.78 2.05 0 2.83L4 21.41c.39.39.9.59 1.41.59.51 0 1.02-.2 1.41-.59l7.78-7.78 2.81-2.81c.8-.78.8-2.07 0-2.86zM5.41 20L4 18.59l7.72-7.72 1.47 1.35L5.41 20z\"/>\n",
              "  </svg>\n",
              "      </button>\n",
              "      \n",
              "  <style>\n",
              "    .colab-df-container {\n",
              "      display:flex;\n",
              "      flex-wrap:wrap;\n",
              "      gap: 12px;\n",
              "    }\n",
              "\n",
              "    .colab-df-convert {\n",
              "      background-color: #E8F0FE;\n",
              "      border: none;\n",
              "      border-radius: 50%;\n",
              "      cursor: pointer;\n",
              "      display: none;\n",
              "      fill: #1967D2;\n",
              "      height: 32px;\n",
              "      padding: 0 0 0 0;\n",
              "      width: 32px;\n",
              "    }\n",
              "\n",
              "    .colab-df-convert:hover {\n",
              "      background-color: #E2EBFA;\n",
              "      box-shadow: 0px 1px 2px rgba(60, 64, 67, 0.3), 0px 1px 3px 1px rgba(60, 64, 67, 0.15);\n",
              "      fill: #174EA6;\n",
              "    }\n",
              "\n",
              "    [theme=dark] .colab-df-convert {\n",
              "      background-color: #3B4455;\n",
              "      fill: #D2E3FC;\n",
              "    }\n",
              "\n",
              "    [theme=dark] .colab-df-convert:hover {\n",
              "      background-color: #434B5C;\n",
              "      box-shadow: 0px 1px 3px 1px rgba(0, 0, 0, 0.15);\n",
              "      filter: drop-shadow(0px 1px 2px rgba(0, 0, 0, 0.3));\n",
              "      fill: #FFFFFF;\n",
              "    }\n",
              "  </style>\n",
              "\n",
              "      <script>\n",
              "        const buttonEl =\n",
              "          document.querySelector('#df-82ea9bfe-caff-4cd6-89ad-913738ada94a button.colab-df-convert');\n",
              "        buttonEl.style.display =\n",
              "          google.colab.kernel.accessAllowed ? 'block' : 'none';\n",
              "\n",
              "        async function convertToInteractive(key) {\n",
              "          const element = document.querySelector('#df-82ea9bfe-caff-4cd6-89ad-913738ada94a');\n",
              "          const dataTable =\n",
              "            await google.colab.kernel.invokeFunction('convertToInteractive',\n",
              "                                                     [key], {});\n",
              "          if (!dataTable) return;\n",
              "\n",
              "          const docLinkHtml = 'Like what you see? Visit the ' +\n",
              "            '<a target=\"_blank\" href=https://colab.research.google.com/notebooks/data_table.ipynb>data table notebook</a>'\n",
              "            + ' to learn more about interactive tables.';\n",
              "          element.innerHTML = '';\n",
              "          dataTable['output_type'] = 'display_data';\n",
              "          await google.colab.output.renderOutput(dataTable, element);\n",
              "          const docLink = document.createElement('div');\n",
              "          docLink.innerHTML = docLinkHtml;\n",
              "          element.appendChild(docLink);\n",
              "        }\n",
              "      </script>\n",
              "    </div>\n",
              "  </div>\n",
              "  "
            ]
          },
          "metadata": {},
          "execution_count": 37
        }
      ]
    },
    {
      "cell_type": "code",
      "source": [
        "# Separando para a predição\n",
        "x = df2.iloc[: , :-1]\n",
        "y = df2.iloc[: , -1]"
      ],
      "metadata": {
        "id": "R28lTvXt1DnP"
      },
      "execution_count": 38,
      "outputs": []
    },
    {
      "cell_type": "code",
      "source": [
        "#Treinando modelo\n",
        "x_train, x_test, y_train, y_test  = train_test_split(x,y, test_size=0.2, random_state=0)"
      ],
      "metadata": {
        "id": "pn2P9d_w4iWW"
      },
      "execution_count": 39,
      "outputs": []
    },
    {
      "cell_type": "code",
      "source": [
        "#Criando modelo\n",
        "modelo = LinearRegression()\n",
        "modelo.fit(x_train, y_train)\n"
      ],
      "metadata": {
        "id": "wg08hmgp6HPh",
        "colab": {
          "base_uri": "https://localhost:8080/"
        },
        "outputId": "be8a8101-a4a1-4b3c-8dfb-f77f21d215c6"
      },
      "execution_count": 40,
      "outputs": [
        {
          "output_type": "execute_result",
          "data": {
            "text/plain": [
              "LinearRegression()"
            ]
          },
          "metadata": {},
          "execution_count": 40
        }
      ]
    },
    {
      "cell_type": "code",
      "source": [
        "#Predição\n",
        "y_pred = modelo.predict(x_test)"
      ],
      "metadata": {
        "id": "7PzOL0Pm4DSD"
      },
      "execution_count": 41,
      "outputs": []
    },
    {
      "cell_type": "code",
      "source": [
        "#Checando os scores com R2 e MSE\n",
        "print(r2_score(y_test, y_pred))\n",
        "print(mean_squared_error(y_test, y_pred))\n",
        "print((mean_squared_error(y_test, y_pred))**1/2)"
      ],
      "metadata": {
        "id": "-AiOteCy4aOI",
        "colab": {
          "base_uri": "https://localhost:8080/"
        },
        "outputId": "3ee3c518-7b22-42ea-d5d7-a0445c53645a"
      },
      "execution_count": 42,
      "outputs": [
        {
          "output_type": "stream",
          "name": "stdout",
          "text": [
            "0.6815125710484375\n",
            "2199426399.7607355\n",
            "1099713199.8803678\n"
          ]
        }
      ]
    },
    {
      "cell_type": "markdown",
      "source": [
        "**INTERPRETANDO A REGRESSÃO**\n",
        "\n",
        "Temos um modelo com menor probabilidade de acerto que o anterior, que também pode ter sido influenciado por treinar com apenas 20% dos dados. "
      ],
      "metadata": {
        "id": "pBcepTHptFMY"
      }
    }
  ],
  "metadata": {
    "colab": {
      "collapsed_sections": [],
      "provenance": [],
      "include_colab_link": true
    },
    "kernelspec": {
      "display_name": "Python 3",
      "name": "python3"
    },
    "language_info": {
      "name": "python"
    }
  },
  "nbformat": 4,
  "nbformat_minor": 0
}